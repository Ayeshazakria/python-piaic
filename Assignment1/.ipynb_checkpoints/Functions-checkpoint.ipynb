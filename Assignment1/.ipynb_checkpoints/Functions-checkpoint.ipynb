{
 "cells": [
  {
   "cell_type": "code",
   "execution_count": 10,
   "metadata": {},
   "outputs": [
    {
     "name": "stdout",
     "output_type": "stream",
     "text": [
      "name :sara Marks average:250\n"
     ]
    }
   ],
   "source": [
    "# functions\n",
    "def student(nam,a,b,c,d,e):\n",
    "    avg=a+b+c+d+e\n",
    "    val=avg/5\n",
    "    # differnt datatypes variables can be multiplied,\n",
    "    #list can be multiplied with an integer value \n",
    "    #string a=\"A\" *3\n",
    "    #print(\"hi\",a)\n",
    "    # but int  variable and string variable can't be added if + is used for concatinating\n",
    "    #so use str(int variable)\n",
    "    print(\"name :\"+nam + \" \"+\"Marks average:\"+ str(avg))  # print( str(val[]))\n",
    "    \n",
    "    #return val\n",
    "student(\"sara\",30,40,50,60,70)\n",
    "#print(y)"
   ]
  },
  {
   "cell_type": "code",
   "execution_count": 13,
   "metadata": {},
   "outputs": [
    {
     "ename": "SyntaxError",
     "evalue": "non-default argument follows default argument (<ipython-input-13-c2839184413b>, line 2)",
     "output_type": "error",
     "traceback": [
      "\u001b[1;36m  File \u001b[1;32m\"<ipython-input-13-c2839184413b>\"\u001b[1;36m, line \u001b[1;32m2\u001b[0m\n\u001b[1;33m    def avg(x,y=69,z):\u001b[0m\n\u001b[1;37m           ^\u001b[0m\n\u001b[1;31mSyntaxError\u001b[0m\u001b[1;31m:\u001b[0m non-default argument follows default argument\n"
     ]
    }
   ],
   "source": [
    "#default assignment\n",
    "def avg(x,y=69,z):\n",
    "    adding=x+y+z\n",
    "    avg_val=adding/3\n",
    "    return avg_val\n",
    "y=avg(x=50,z=4)\n",
    "print(y)\n"
   ]
  },
  {
   "cell_type": "code",
   "execution_count": 14,
   "metadata": {},
   "outputs": [
    {
     "ename": "SyntaxError",
     "evalue": "positional argument follows keyword argument (<ipython-input-14-5cebb76b1e08>, line 5)",
     "output_type": "error",
     "traceback": [
      "\u001b[1;36m  File \u001b[1;32m\"<ipython-input-14-5cebb76b1e08>\"\u001b[1;36m, line \u001b[1;32m5\u001b[0m\n\u001b[1;33m    avg(y=4,x,20)\u001b[0m\n\u001b[1;37m           ^\u001b[0m\n\u001b[1;31mSyntaxError\u001b[0m\u001b[1;31m:\u001b[0m positional argument follows keyword argument\n"
     ]
    }
   ],
   "source": [
    "#keyword and postional arguments \"hybrid\"\n",
    "#postional parameters pehly\n",
    "def avg(x,y,z):\n",
    "    print(hellow)\n",
    "avg(y=4,x,20)\n"
   ]
  },
  {
   "cell_type": "code",
   "execution_count": 15,
   "metadata": {
    "scrolled": true
   },
   "outputs": [
    {
     "ename": "TypeError",
     "evalue": "avg() takes 3 positional arguments but 6 were given",
     "output_type": "error",
     "traceback": [
      "\u001b[1;31m---------------------------------------------------------------------------\u001b[0m",
      "\u001b[1;31mTypeError\u001b[0m                                 Traceback (most recent call last)",
      "\u001b[1;32m<ipython-input-15-6334210da606>\u001b[0m in \u001b[0;36m<module>\u001b[1;34m\u001b[0m\n\u001b[0;32m      2\u001b[0m \u001b[1;32mdef\u001b[0m \u001b[0mavg\u001b[0m\u001b[1;33m(\u001b[0m\u001b[0mx\u001b[0m\u001b[1;33m,\u001b[0m\u001b[0my\u001b[0m\u001b[1;33m,\u001b[0m\u001b[0mz\u001b[0m\u001b[1;33m)\u001b[0m\u001b[1;33m:\u001b[0m\u001b[1;33m\u001b[0m\u001b[1;33m\u001b[0m\u001b[0m\n\u001b[0;32m      3\u001b[0m     \u001b[0mprint\u001b[0m\u001b[1;33m(\u001b[0m\u001b[1;34m\"hi\"\u001b[0m\u001b[1;33m)\u001b[0m\u001b[1;33m\u001b[0m\u001b[1;33m\u001b[0m\u001b[0m\n\u001b[1;32m----> 4\u001b[1;33m \u001b[0mavg\u001b[0m\u001b[1;33m(\u001b[0m\u001b[1;36m3\u001b[0m\u001b[1;33m,\u001b[0m\u001b[1;36m4\u001b[0m\u001b[1;33m,\u001b[0m\u001b[1;36m5\u001b[0m\u001b[1;33m,\u001b[0m\u001b[1;36m6\u001b[0m\u001b[1;33m,\u001b[0m\u001b[1;36m78\u001b[0m\u001b[1;33m,\u001b[0m\u001b[1;36m0\u001b[0m\u001b[1;33m)\u001b[0m\u001b[1;33m\u001b[0m\u001b[1;33m\u001b[0m\u001b[0m\n\u001b[0m",
      "\u001b[1;31mTypeError\u001b[0m: avg() takes 3 positional arguments but 6 were given"
     ]
    }
   ],
   "source": [
    " \n",
    "#  Dealing with multiple inputs/arguments in ftn call\n",
    "def avg(x,y,z):\n",
    "    print(\"hi\")\n",
    "avg(3,4,5,6,78,0)"
   ]
  },
  {
   "cell_type": "code",
   "execution_count": 16,
   "metadata": {},
   "outputs": [
    {
     "name": "stdout",
     "output_type": "stream",
     "text": [
      "hi\n"
     ]
    }
   ],
   "source": [
    "def avg(x,y,*opt_val):\n",
    "    print(\"hi\")\n",
    "    #avg/len(opt_val)\n",
    "avg(3,4,5,6,78,0)"
   ]
  },
  {
   "cell_type": "code",
   "execution_count": 17,
   "metadata": {},
   "outputs": [
    {
     "name": "stdout",
     "output_type": "stream",
     "text": [
      "hi\n"
     ]
    }
   ],
   "source": [
    "def avg(x,y,*opt_val):\n",
    "    print(\"hi\")\n",
    "avg(3,\"ali\",5,6,78,0)"
   ]
  },
  {
   "cell_type": "code",
   "execution_count": 18,
   "metadata": {},
   "outputs": [
    {
     "name": "stdout",
     "output_type": "stream",
     "text": [
      "hi\n"
     ]
    }
   ],
   "source": [
    "def avg(x,y,*opt_val):\n",
    "    print(\"hi\")\n",
    "avg(3,\"ali\")"
   ]
  },
  {
   "cell_type": "code",
   "execution_count": 20,
   "metadata": {},
   "outputs": [
    {
     "name": "stdout",
     "output_type": "stream",
     "text": [
      "3.5\n"
     ]
    }
   ],
   "source": [
    "def avg(x,y,*opt_v):\n",
    "    a = sum(opt_v)/len(opt_v)\n",
    "    return a  \n",
    "y  = avg(3,4,5,5,0,4)\n",
    "print(y)"
   ]
  },
  {
   "cell_type": "code",
   "execution_count": 23,
   "metadata": {},
   "outputs": [
    {
     "name": "stdout",
     "output_type": "stream",
     "text": [
      "Name is: Ali Avg is: 4.0\n"
     ]
    }
   ],
   "source": [
    "def stu(name,*opt_v):\n",
    "     a = sum(opt_v)/len(opt_v)\n",
    "     print(\"Name is: \"+ name +\" \"+ \"Avg is: \" +str(a))\n",
    "stu(\"Ali\",4,5,4,3)"
   ]
  },
  {
   "cell_type": "code",
   "execution_count": 25,
   "metadata": {},
   "outputs": [
    {
     "ename": "TypeError",
     "evalue": "avg() missing 1 required keyword-only argument: 'name'",
     "output_type": "error",
     "traceback": [
      "\u001b[1;31m---------------------------------------------------------------------------\u001b[0m",
      "\u001b[1;31mTypeError\u001b[0m                                 Traceback (most recent call last)",
      "\u001b[1;32m<ipython-input-25-fd05704db17c>\u001b[0m in \u001b[0;36m<module>\u001b[1;34m\u001b[0m\n\u001b[0;32m      1\u001b[0m \u001b[1;32mdef\u001b[0m \u001b[0mavg\u001b[0m\u001b[1;33m(\u001b[0m\u001b[1;33m*\u001b[0m\u001b[0mopt_val\u001b[0m\u001b[1;33m,\u001b[0m\u001b[0mname\u001b[0m\u001b[1;33m)\u001b[0m\u001b[1;33m:\u001b[0m\u001b[1;33m\u001b[0m\u001b[1;33m\u001b[0m\u001b[0m\n\u001b[0;32m      2\u001b[0m     \u001b[0mprint\u001b[0m\u001b[1;33m(\u001b[0m\u001b[1;34m\"hjh\"\u001b[0m\u001b[1;33m)\u001b[0m\u001b[1;33m\u001b[0m\u001b[1;33m\u001b[0m\u001b[0m\n\u001b[1;32m----> 3\u001b[1;33m \u001b[0mavg\u001b[0m\u001b[1;33m(\u001b[0m\u001b[1;34m\"cat\"\u001b[0m\u001b[1;33m,\u001b[0m\u001b[1;36m3434\u001b[0m\u001b[1;33m,\u001b[0m\u001b[1;36m6675\u001b[0m\u001b[1;33m,\u001b[0m\u001b[1;36m9\u001b[0m\u001b[1;33m)\u001b[0m\u001b[1;33m\u001b[0m\u001b[1;33m\u001b[0m\u001b[0m\n\u001b[0m",
      "\u001b[1;31mTypeError\u001b[0m: avg() missing 1 required keyword-only argument: 'name'"
     ]
    }
   ],
   "source": [
    "def avg(*opt_val,name):\n",
    "    print(\"hjh\")\n",
    "avg(\"cat\",3434,6675,9)"
   ]
  },
  {
   "cell_type": "code",
   "execution_count": 27,
   "metadata": {},
   "outputs": [
    {
     "name": "stdout",
     "output_type": "stream",
     "text": [
      "\n",
      "    sid:ahmed\n",
      "    Name:4\n",
      "    father's name:ali\n",
      "    course:ai\n",
      "    Timings:7:00\n",
      "    \n"
     ]
    }
   ],
   "source": [
    "#format\n",
    "def test(name,fname,sid,course,timings):\n",
    "    print(f'''\n",
    "    sid:{sid}\n",
    "    Name:{name}\n",
    "    father's name:{ fname}\n",
    "    course:{course}\n",
    "    Timings:{ timings}\n",
    "    ''')\n",
    "test(4,\"ali\",\"ahmed\",\"ai\",\"7:00\")"
   ]
  },
  {
   "cell_type": "code",
   "execution_count": 30,
   "metadata": {},
   "outputs": [
    {
     "ename": "TypeError",
     "evalue": "test() missing 4 required positional arguments: 'fname', 'sid', 'course', and 'timings'",
     "output_type": "error",
     "traceback": [
      "\u001b[1;31m---------------------------------------------------------------------------\u001b[0m",
      "\u001b[1;31mTypeError\u001b[0m                                 Traceback (most recent call last)",
      "\u001b[1;32m<ipython-input-30-d1dc264391f0>\u001b[0m in \u001b[0;36m<module>\u001b[1;34m\u001b[0m\n\u001b[0;32m      1\u001b[0m \u001b[0mlist1\u001b[0m\u001b[1;33m=\u001b[0m\u001b[1;33m[\u001b[0m\u001b[1;36m887\u001b[0m\u001b[1;33m,\u001b[0m\u001b[1;34m\"ihjin\"\u001b[0m\u001b[1;33m,\u001b[0m\u001b[1;34m\"7:00\"\u001b[0m\u001b[1;33m]\u001b[0m\u001b[1;33m\u001b[0m\u001b[1;33m\u001b[0m\u001b[0m\n\u001b[1;32m----> 2\u001b[1;33m \u001b[0mtest\u001b[0m\u001b[1;33m(\u001b[0m\u001b[0mlist1\u001b[0m\u001b[1;33m)\u001b[0m\u001b[1;33m\u001b[0m\u001b[1;33m\u001b[0m\u001b[0m\n\u001b[0m",
      "\u001b[1;31mTypeError\u001b[0m: test() missing 4 required positional arguments: 'fname', 'sid', 'course', and 'timings'"
     ]
    }
   ],
   "source": [
    "list1=[887,\"ihjin\",\"7:00\"]\n",
    "test(list1)"
   ]
  },
  {
   "cell_type": "code",
   "execution_count": 32,
   "metadata": {},
   "outputs": [
    {
     "name": "stdout",
     "output_type": "stream",
     "text": [
      "the winner isfsd\n",
      "the score is897\n",
      "weather:sunny\n",
      "{'weather': 'sunny', 'time': '8:00'}\n",
      "time:8:00\n",
      "{'weather': 'sunny', 'time': '8:00'}\n"
     ]
    }
   ],
   "source": [
    "def display_result(winner,score,** other_info):\n",
    "    print(\"the winner is\"+ winner)\n",
    "    print(\"the score is\"+ str(score))\n",
    "    for key, value in other_info.items():\n",
    "        #for key in other_info.items()\n",
    "        print(key+ \":\"+ value)\n",
    "        print(other_info)\n",
    "display_result(winner=\"fsd\",score=897,weather=\"sunny\",time=\"8:00\")"
   ]
  },
  {
   "cell_type": "code",
   "execution_count": 33,
   "metadata": {},
   "outputs": [
    {
     "name": "stdout",
     "output_type": "stream",
     "text": [
      "line #1\n",
      "line# 2\n"
     ]
    }
   ],
   "source": [
    "print(\"line #1\")\n",
    "def testing():\n",
    "    print(\"pakistan\")\n",
    "    print()\n",
    "print(\"line# 2\")"
   ]
  },
  {
   "cell_type": "code",
   "execution_count": 34,
   "metadata": {},
   "outputs": [
    {
     "name": "stdout",
     "output_type": "stream",
     "text": [
      "pakistan\n",
      "\n"
     ]
    }
   ],
   "source": [
    "testing()"
   ]
  },
  {
   "cell_type": "code",
   "execution_count": 37,
   "metadata": {},
   "outputs": [
    {
     "name": "stdout",
     "output_type": "stream",
     "text": [
      "120\n"
     ]
    }
   ],
   "source": [
    "# recurrsive  ftn call\n",
    "def fact(num):\n",
    "    if num==1:\n",
    "        return 1\n",
    "    return( num*fact(num-1))\n",
    "a=fact(5)\n",
    "print(a)"
   ]
  },
  {
   "cell_type": "code",
   "execution_count": null,
   "metadata": {},
   "outputs": [],
   "source": []
  }
 ],
 "metadata": {
  "kernelspec": {
   "display_name": "Python 3",
   "language": "python",
   "name": "python3"
  },
  "language_info": {
   "codemirror_mode": {
    "name": "ipython",
    "version": 3
   },
   "file_extension": ".py",
   "mimetype": "text/x-python",
   "name": "python",
   "nbconvert_exporter": "python",
   "pygments_lexer": "ipython3",
   "version": "3.7.4"
  }
 },
 "nbformat": 4,
 "nbformat_minor": 2
}
