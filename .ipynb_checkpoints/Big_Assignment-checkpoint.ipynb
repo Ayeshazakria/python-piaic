{
 "cells": [
  {
   "cell_type": "code",
   "execution_count": 1,
   "metadata": {},
   "outputs": [
    {
     "ename": "SyntaxError",
     "evalue": "invalid syntax (<ipython-input-1-0f5bcedd7a6f>, line 2)",
     "output_type": "error",
     "traceback": [
      "\u001b[1;36m  File \u001b[1;32m\"<ipython-input-1-0f5bcedd7a6f>\"\u001b[1;36m, line \u001b[1;32m2\u001b[0m\n\u001b[1;33m    a.\u001b[0m\n\u001b[1;37m      ^\u001b[0m\n\u001b[1;31mSyntaxError\u001b[0m\u001b[1;31m:\u001b[0m invalid syntax\n"
     ]
    }
   ],
   "source": [
    "\n",
    "1. Which of the following terms are related to dictionaries?\n",
    "a.\n",
    "value\n",
    "b.\n",
    "item\n",
    "d.\n",
    "key\n",
    "2. Just like lists, + operator is used to extend dictionaries?\n",
    "b.\n",
    "False\n",
    "3. To access items from a dictionary, we specify the index of that item within [] like myDict[0]?\n",
    "b.\n",
    "False\n",
    "because they are accessed like this\n",
    "for items in myDict.items():\n",
    "4. When we use [] to access the value from a dictionary which does not exist in that dictionary….?\n",
    "d.\n",
    "None of above\n",
    "it gives key error\n",
    "5. What does return the pop method of a dictionary?\n",
    "d.\n",
    "value of the key, if it exists in the dictionary\n",
    "6. What does return popitem method return?\n",
    "b.\n",
    "tupple containing the pair of last item of the dictionary\n",
    "7. Which of the following 2 methods can be used to iterate through the items of a dictionary?\n",
    "a.\n",
    "items() method is the only one that is used to iterate through dictionary items\n",
    "8. Which one of the following is used to enclose a dictionary?\n",
    "b.\n",
    "{} curly brackets"
   ]
  },
  {
   "cell_type": "code",
   "execution_count": 3,
   "metadata": {},
   "outputs": [
    {
     "name": "stdout",
     "output_type": "stream",
     "text": [
      "Enter string: hellow\n"
     ]
    }
   ],
   "source": [
    "##question 10:\n",
    "var1 = input(\"Enter string: \")\n",
    "list1 = var1.split()\n",
    "list2 = [list1.count(i) for i in list1]\n",
    "dict1 =dict(zip(list1,list2))\n",
    "for key, value in dict1.items():\n",
    "    if (value%2 == 0):\n",
    "        print(key)"
   ]
  },
  {
   "cell_type": "code",
   "execution_count": 4,
   "metadata": {},
   "outputs": [
    {
     "name": "stdout",
     "output_type": "stream",
     "text": [
      "['Feb', 'Apr', 'Mar']\n",
      "['Mar', 'May', 'Jun', 'Jul', 'Aug', 'Jan']\n",
      "['Jun', 'Jul', 'Aug', 'Jan']\n",
      "['Apr', 'May', 'Jul']\n",
      "[]\n",
      "['Apr', 'Mar', 'May', 'Jun', 'Jul', 'Aug']\n",
      "['Jan', 'Jul', 'May', 'Apr']\n",
      "['Feb', 'Apr', 'Mar', 'May']\n"
     ]
    }
   ],
   "source": [
    "##question 11:\n",
    "X = [\"Feb\", \"Apr\", \"Mar\", \"May\", \"Jun\", \"Jul\", \"Aug\", \"Jan\"]\n",
    "print(X[0:3]) #feb -march\n",
    "print(X[2:8]) #march-jan\n",
    "print(X[4:9]) #june- jan\n",
    "print(X[1:7:2]) #aprl,may,july\n",
    "print(X[-1:-7]) # []\n",
    "print(X[-7:7]) # aprl -aug\n",
    "print(X[-1:-8:-2])#jan,jul,may, april\n",
    "print(X[:4]) # feb- may"
   ]
  },
  {
   "cell_type": "code",
   "execution_count": 5,
   "metadata": {},
   "outputs": [
    {
     "name": "stdout",
     "output_type": "stream",
     "text": [
      "[2, 8, 4, 5]\n"
     ]
    }
   ],
   "source": [
    "## question 12\n",
    "X = [ 9,2,8,4,5]\n",
    "X.remove(9)\n",
    "print(X)"
   ]
  },
  {
   "cell_type": "code",
   "execution_count": 6,
   "metadata": {},
   "outputs": [
    {
     "name": "stdout",
     "output_type": "stream",
     "text": [
      "hello! hello! hello! \n"
     ]
    }
   ],
   "source": [
    "##question 13\n",
    "p = 3\n",
    "q = 'hello! '\n",
    "print( q*p)"
   ]
  },
  {
   "cell_type": "code",
   "execution_count": 7,
   "metadata": {},
   "outputs": [
    {
     "name": "stdout",
     "output_type": "stream",
     "text": [
      "THIS IS A RANDOM SENTENCE\n"
     ]
    }
   ],
   "source": [
    "## question 14\n",
    "y = \"this is a random sentence\"\n",
    "print(y.upper())"
   ]
  },
  {
   "cell_type": "code",
   "execution_count": 9,
   "metadata": {},
   "outputs": [
    {
     "name": "stdout",
     "output_type": "stream",
     "text": [
      "<class 'bool'>\n",
      "<class 'str'>\n",
      "<class 'int'>\n",
      "<class 'float'>\n"
     ]
    }
   ],
   "source": [
    "## question 15\n",
    "p = True \n",
    "q = 'True'\n",
    "r = 2\n",
    "s = 2.0 \n",
    "print(type(p)) \n",
    "print(type(q))\n",
    "print(type(r))\n",
    "print(type(s))"
   ]
  },
  {
   "cell_type": "code",
   "execution_count": 10,
   "metadata": {},
   "outputs": [
    {
     "name": "stdout",
     "output_type": "stream",
     "text": [
      "0\n",
      "2.0\n",
      "2\n",
      "2\n"
     ]
    }
   ],
   "source": [
    "# question 16\n",
    "X,Y= 4,2\n",
    "print(X % Y)\n",
    "print(X / Y)\n",
    "print(X // Y)\n",
    "print(Y % X)"
   ]
  },
  {
   "cell_type": "code",
   "execution_count": 11,
   "metadata": {},
   "outputs": [
    {
     "name": "stdout",
     "output_type": "stream",
     "text": [
      "4\n",
      "1\n",
      "1\n",
      "5\n",
      "9\n",
      "0\n"
     ]
    }
   ],
   "source": [
    "# quest 19\n",
    "x = [[4, 1, 1], [5, 9, 0]]\n",
    "for i in x:\n",
    "    #print(i)\n",
    "    for j in i:\n",
    "        print(j)"
   ]
  },
  {
   "cell_type": "code",
   "execution_count": 12,
   "metadata": {},
   "outputs": [
    {
     "name": "stdout",
     "output_type": "stream",
     "text": [
      "4 1 1 5 9 0 "
     ]
    }
   ],
   "source": [
    "x = [[4, 1, 1], [5, 9, 0]]\n",
    "for i in x:\n",
    "    for j in i:\n",
    "        print(j, end = ' ')"
   ]
  },
  {
   "cell_type": "code",
   "execution_count": 13,
   "metadata": {},
   "outputs": [
    {
     "name": "stdout",
     "output_type": "stream",
     "text": [
      "4 1 1 \n",
      "\n",
      "5 9 0 \n",
      "\n"
     ]
    }
   ],
   "source": [
    "x = [[4, 1, 1], [5, 9, 0]]\n",
    "for i in x:\n",
    "    for j in i:\n",
    "        print(j, end = ' ')\n",
    "    print(\"\\n\")"
   ]
  },
  {
   "cell_type": "code",
   "execution_count": 14,
   "metadata": {},
   "outputs": [
    {
     "name": "stdout",
     "output_type": "stream",
     "text": [
      "Item0 -  10.62\n",
      "Item1 -  16.14\n",
      "Item2 -  6.45\n",
      "Item3 -  17.11\n"
     ]
    }
   ],
   "source": [
    "# quest 20\n",
    "q = [10.62, 16.14, 6.45, 17.11]\n",
    "for j, z in enumerate (q) :\n",
    "    print( 'Item' + str( j ) + ' - ', str ( z ))"
   ]
  },
  {
   "cell_type": "code",
   "execution_count": 15,
   "metadata": {},
   "outputs": [
    {
     "name": "stdout",
     "output_type": "stream",
     "text": [
      "{0: 1, 1: 1, 2: 1}\n"
     ]
    }
   ],
   "source": [
    "# quest 22\n",
    "D = dict()\n",
    "for i in range (3):\n",
    "    for j in range(2):\n",
    "        D[i] = j\n",
    "print(D)"
   ]
  },
  {
   "cell_type": "code",
   "execution_count": 16,
   "metadata": {},
   "outputs": [
    {
     "name": "stdout",
     "output_type": "stream",
     "text": [
      "11.333333333333334\n"
     ]
    }
   ],
   "source": [
    "# quest 24\n",
    "def avg ( x , y , z = 50 ):\n",
    "    adding = x + y + z\n",
    "    avg_value = adding / 3\n",
    "    return avg_value\n",
    "y = avg ( x = 5 , y = 9 , z = 20 )\n",
    "print(y)\n"
   ]
  },
  {
   "cell_type": "code",
   "execution_count": 17,
   "metadata": {},
   "outputs": [
    {
     "name": "stdout",
     "output_type": "stream",
     "text": [
      "name is: AliMarks:44.5\n"
     ]
    }
   ],
   "source": [
    "# quest 25\n",
    "def avg ( name , *opt_values  ):\n",
    "    avg_value = sum (opt_values) / len(opt_values)\n",
    "    print('name is: ' + name + 'Marks:' + str(avg_value))\n",
    "avg ( 'Ali', 5 , 9 , 20, 34, 87, 112  )"
   ]
  },
  {
   "cell_type": "code",
   "execution_count": 18,
   "metadata": {},
   "outputs": [
    {
     "name": "stdout",
     "output_type": "stream",
     "text": [
      "Marks:44.5\n",
      "key : a    value: hina\n",
      "key : name    value: Ali\n"
     ]
    }
   ],
   "source": [
    "\n",
    "def avg ( *opt_values ,**name ):\n",
    "    avg_value = sum (opt_values) / len(opt_values)\n",
    "    print( 'Marks:' + str(avg_value))\n",
    "    for i,j in name.items():\n",
    "        print(\"key :\" ,i,\"  \",\"value:\",j)\n",
    "avg ( 5 , 9 , 20, 34, 87, 112  , a = 'hina',name = 'Ali')"
   ]
  },
  {
   "cell_type": "code",
   "execution_count": 19,
   "metadata": {},
   "outputs": [
    {
     "name": "stdout",
     "output_type": "stream",
     "text": [
      "name is: malik Marks:44.5\n"
     ]
    }
   ],
   "source": [
    "# quest 25\n",
    "def avg ( *opt_values ,name ='Ali'):\n",
    "    avg_value = sum (opt_values) / len(opt_values)\n",
    "    print( 'name is: ' + name + ' Marks:' + str(avg_value))\n",
    "avg ( 5 , 9 , 20, 34, 87, 112, name = 'malik' )"
   ]
  },
  {
   "cell_type": "code",
   "execution_count": 20,
   "metadata": {},
   "outputs": [
    {
     "name": "stdout",
     "output_type": "stream",
     "text": [
      "The winner was Manchester\n",
      "The score was 1-0\n"
     ]
    }
   ],
   "source": [
    "def display_result(winner, score, **other_info): # positional with multiple key parameters passed\n",
    "    print(\"The winner was \" + winner)\n",
    "    print(\"The score was \" + score) # non return type function\n",
    "display_result(winner='Manchester', score=\"1-0\", overtime =\"yes\", injuries=\"none\") # key arguments are passed"
   ]
  },
  {
   "cell_type": "code",
   "execution_count": 21,
   "metadata": {},
   "outputs": [
    {
     "name": "stdout",
     "output_type": "stream",
     "text": [
      "The winner was Manchester\n",
      "The score was 1-0\n",
      "overtime yes\n",
      "injuries none\n"
     ]
    }
   ],
   "source": [
    " \n",
    "def display_result(winner, score, **other_info): # positional with multiple key parameters passed\n",
    "    print(\"The winner was \" + winner)\n",
    "    print(\"The score was \" + score) # non return type function\n",
    "    for key,value in other_info.items():\n",
    "        print(key,value)\n",
    "display_result(winner='Manchester', score=\"1-0\", overtime =\"yes\", injuries=\"none\") # key arguments are passed"
   ]
  },
  {
   "cell_type": "code",
   "execution_count": 22,
   "metadata": {},
   "outputs": [
    {
     "name": "stdout",
     "output_type": "stream",
     "text": [
      "The winner was Manchester\n",
      "The score was 1-0\n",
      "('yes', 'none')\n"
     ]
    }
   ],
   "source": [
    "\n",
    "def display_result(*other_info, winner, score): # positional with multiple key parameters passed\n",
    "    print(\"The winner was \" + winner)\n",
    "    print(\"The score was \" + score) # non return type function\n",
    "    print(other_info)\n",
    "display_result( \"yes\", \"none\",winner='Manchester', score=\"1-0\") # key arguments are passed"
   ]
  },
  {
   "cell_type": "code",
   "execution_count": 23,
   "metadata": {},
   "outputs": [
    {
     "name": "stdout",
     "output_type": "stream",
     "text": [
      "none\n",
      "yes\n",
      "winner Manchester\n",
      "score 1-0\n"
     ]
    }
   ],
   "source": [
    "# quest 26\n",
    "def display_result(y, x, **other_info): # positional with multiple key parameters passed\n",
    "    print(x)\n",
    "    print(y)\n",
    "    for i,j in other_info.items():\n",
    "        print(i,j)\n",
    "display_result( \"yes\", \"none\", winner='Manchester', score=\"1-0\") # key arguments are passed#"
   ]
  },
  {
   "cell_type": "code",
   "execution_count": 24,
   "metadata": {},
   "outputs": [
    {
     "name": "stdout",
     "output_type": "stream",
     "text": [
      "The winner was Manchester\n",
      "The score was 1-0\n"
     ]
    }
   ],
   "source": [
    "# quest 27\n",
    "def display_result(winner, score, **other_info):\n",
    "    print(\"The winner was \" + winner)\n",
    "    print(\"The score was \" + score)\n",
    "display_result(winner= 'Manchester', overtime =\"yes\", injuries=\"none\" , score =\"1-0\")"
   ]
  },
  {
   "cell_type": "code",
   "execution_count": 25,
   "metadata": {},
   "outputs": [
    {
     "name": "stdout",
     "output_type": "stream",
     "text": [
      "000123\n"
     ]
    }
   ],
   "source": [
    "# quest 28\n",
    "X= 123\n",
    "print(\"%06d\"%X)"
   ]
  },
  {
   "cell_type": "code",
   "execution_count": 26,
   "metadata": {},
   "outputs": [
    {
     "name": "stdout",
     "output_type": "stream",
     "text": [
      "22.19\n"
     ]
    }
   ],
   "source": [
    "# quest 29\n",
    "x=22.19\n",
    "print(\"%5.2f\"%x)"
   ]
  },
  {
   "cell_type": "code",
   "execution_count": 27,
   "metadata": {},
   "outputs": [
    {
     "data": {
      "text/plain": [
       "'1.234560, 1.234560, 01.23'"
      ]
     },
     "execution_count": 27,
     "metadata": {},
     "output_type": "execute_result"
    }
   ],
   "source": [
    "# quest 30\n",
    "'{0:f}, {1:2f}, {2:05.2f}'.format(1.23456, 1.23456, 1.23456)"
   ]
  },
  {
   "cell_type": "code",
   "execution_count": 29,
   "metadata": {},
   "outputs": [],
   "source": [
    "# quest 31\n",
    "i = 1\n",
    "while False: # loop doesnt run because of False condition\n",
    "    if i%2 == 0:\n",
    "        break    \n",
    "    print(i)\n",
    "    i += 2\n"
   ]
  },
  {
   "cell_type": "code",
   "execution_count": 30,
   "metadata": {},
   "outputs": [
    {
     "name": "stdout",
     "output_type": "stream",
     "text": [
      "1\n",
      "3\n",
      "5\n",
      "7\n",
      "9\n"
     ]
    }
   ],
   "source": [
    "# quest 31\n",
    "i = 1\n",
    "while i<10: \n",
    "    if i%2 == 0:\n",
    "        break    \n",
    "    print(i)\n",
    "    i += 2"
   ]
  },
  {
   "cell_type": "code",
   "execution_count": 31,
   "metadata": {},
   "outputs": [
    {
     "name": "stdout",
     "output_type": "stream",
     "text": [
      "a a a a a a "
     ]
    }
   ],
   "source": [
    "# quest 32\n",
    "x = \"abcdef\"\n",
    "i = \"a\"\n",
    "while i in x:\n",
    "    x = x[:-1]\n",
    "    print(i, end = \" \")"
   ]
  },
  {
   "cell_type": "code",
   "execution_count": 32,
   "metadata": {},
   "outputs": [
    {
     "name": "stdout",
     "output_type": "stream",
     "text": [
      "a\ta\t"
     ]
    }
   ],
   "source": [
    "x = \"abcdef\"\n",
    "i = \"a\"\n",
    "while i in x: # its true as long as \"a\" is in string x\n",
    "   x = x[:-4] # ab\n",
    "   print(i, end = \"\\t\")"
   ]
  },
  {
   "cell_type": "code",
   "execution_count": 33,
   "metadata": {},
   "outputs": [
    {
     "name": "stdout",
     "output_type": "stream",
     "text": [
      "i\t"
     ]
    }
   ],
   "source": [
    "x = \"abcdef\"\n",
    "i = \"a\"\n",
    "while i in x: # its true as long as \"a\" is in string x\n",
    "   x = x[3:] # ab\n",
    "   print(\"i\", end = \"\\t\")"
   ]
  },
  {
   "cell_type": "code",
   "execution_count": 34,
   "metadata": {},
   "outputs": [
    {
     "name": "stdout",
     "output_type": "stream",
     "text": [
      "d\n",
      "c\n",
      "b\n",
      "a\n"
     ]
    }
   ],
   "source": [
    "# quest 33\n",
    "for i in ''.join(reversed(list('abcd'))):\n",
    "    print(i)"
   ]
  },
  {
   "cell_type": "code",
   "execution_count": 35,
   "metadata": {},
   "outputs": [
    {
     "name": "stdout",
     "output_type": "stream",
     "text": [
      "a\n",
      "b\n",
      "c\n",
      "d\n"
     ]
    }
   ],
   "source": [
    "\n",
    "for i in ''.join(list('abcd')):\n",
    "    print(i)"
   ]
  },
  {
   "cell_type": "code",
   "execution_count": 36,
   "metadata": {},
   "outputs": [
    {
     "name": "stdout",
     "output_type": "stream",
     "text": [
      "0\n",
      "1\n",
      "2\n",
      "3\n",
      "4\n"
     ]
    }
   ],
   "source": [
    "# q 34\n",
    "for i in range(10):\n",
    "    if i == 5:\n",
    "        break\n",
    "    else:\n",
    "        print(i)\n",
    "else:\n",
    "    print(\"Here\")"
   ]
  },
  {
   "cell_type": "code",
   "execution_count": 37,
   "metadata": {},
   "outputs": [
    {
     "name": "stdout",
     "output_type": "stream",
     "text": [
      "48\n"
     ]
    }
   ],
   "source": [
    "# q35\n",
    "y = 6\n",
    "z = lambda x: x * y # one argument can be taken and multiplication is done using that argument\n",
    "print(z(8))"
   ]
  },
  {
   "cell_type": "code",
   "execution_count": 38,
   "metadata": {},
   "outputs": [
    {
     "name": "stdout",
     "output_type": "stream",
     "text": [
      "[['a', 1], ['b', 3]]\n"
     ]
    }
   ],
   "source": [
    "l1 =[['a',1],['b',3]]\n",
    "l1.sort(key=lambda l1:l1[1])\n",
    "print(l1)"
   ]
  },
  {
   "cell_type": "code",
   "execution_count": 39,
   "metadata": {},
   "outputs": [
    {
     "name": "stdout",
     "output_type": "stream",
     "text": [
      "0\n"
     ]
    }
   ],
   "source": [
    "# q 36\n",
    "i=0\n",
    "def change(i):\n",
    "    i=i+1\n",
    "    return i\n",
    "change(1) # this is a calling function of return type it doesnt print anything as its not stored in a variable to print\n",
    "print(i) # this prints the initialized value of i"
   ]
  },
  {
   "cell_type": "code",
   "execution_count": 40,
   "metadata": {},
   "outputs": [
    {
     "name": "stdout",
     "output_type": "stream",
     "text": [
      "<class 'tuple'>\n",
      "(2, 3, 4)\n"
     ]
    }
   ],
   "source": [
    "# q 40\n",
    "def change(one, *two): # one positional argument with two as multiple positional arguments\n",
    "    print(type(two)) # type of argument received is tuple\n",
    "    print(two) # prints the multiple parameters passed after assigning 1 to the one positional argument  \n",
    "change(1,2,3,4)"
   ]
  },
  {
   "cell_type": "code",
   "execution_count": 41,
   "metadata": {},
   "outputs": [
    {
     "name": "stdout",
     "output_type": "stream",
     "text": [
      "<class 'dict'>\n"
     ]
    }
   ],
   "source": [
    "# quest 41\n",
    "def find(a, **b):\n",
    "    print(type(b)) # prints the type of argument b which is for multiple keyword arguments they are considered a dictionary\n",
    "find('letters',A='1',B='2')"
   ]
  },
  {
   "cell_type": "code",
   "execution_count": 42,
   "metadata": {},
   "outputs": [
    {
     "name": "stdout",
     "output_type": "stream",
     "text": [
      "[0]\n",
      "[0, 1]\n",
      "[0, 1, 2]\n"
     ]
    }
   ],
   "source": [
    "# quest 42\n",
    "def foo(i, x=[]): # positional and key argument is passed x is  a default argument empty list\n",
    "    x.append(i) # x= [0] , x= [0,1], x=[0,1,2]\n",
    "    return x   #[0] [0,1] then [0,1,2] is returned at the end\n",
    "for i in range(3): # for loop will run first from 0 to 2\n",
    "    print(foo(i)) # this will call the foo() function foo(0) then foo(1) then foo(2)"
   ]
  },
  {
   "cell_type": "code",
   "execution_count": 43,
   "metadata": {},
   "outputs": [
    {
     "name": "stdout",
     "output_type": "stream",
     "text": [
      "15\n"
     ]
    }
   ],
   "source": [
    "# quest 43\n",
    "print(3*(1+2)**2-(2**2)*3)  "
   ]
  },
  {
   "cell_type": "code",
   "execution_count": 44,
   "metadata": {},
   "outputs": [
    {
     "name": "stdout",
     "output_type": "stream",
     "text": [
      "3.23\n",
      "3\n"
     ]
    }
   ],
   "source": [
    "# quest 44\n",
    "import math\n",
    "\n",
    "print(math.fabs(3.23))\n",
    "print(math.floor(3.6))"
   ]
  },
  {
   "cell_type": "code",
   "execution_count": 45,
   "metadata": {},
   "outputs": [
    {
     "name": "stdout",
     "output_type": "stream",
     "text": [
      "Enter marks: 67\n",
      "D grade\n"
     ]
    }
   ],
   "source": [
    " #quest 46\n",
    "Marks = int(input(\"Enter marks: \"))\n",
    "if Marks >= 90:\n",
    "    print(\"A grade\")\n",
    "elif Marks >=80:\n",
    "    print(\"B grade\")\n",
    "elif Marks >=70:\n",
    "    print(\"C grade\")\n",
    "elif Marks >= 60:\n",
    "    print(\"D grade\")\n",
    "else:\n",
    "    if Marks <=60:\n",
    "        print(\"E grade\")"
   ]
  },
  {
   "cell_type": "markdown",
   "metadata": {},
   "source": [
    " # quest 45\n",
    " Which two functions should you use? Each correct answer presents a complete solution. (Choose two.)\n",
    "B.\n",
    "random.randint(5, 11)\n",
    "D.\n",
    "random.randrange(5, 11, 1)"
   ]
  },
  {
   "cell_type": "code",
   "execution_count": null,
   "metadata": {},
   "outputs": [],
   "source": []
  }
 ],
 "metadata": {
  "kernelspec": {
   "display_name": "Python 3",
   "language": "python",
   "name": "python3"
  },
  "language_info": {
   "codemirror_mode": {
    "name": "ipython",
    "version": 3
   },
   "file_extension": ".py",
   "mimetype": "text/x-python",
   "name": "python",
   "nbconvert_exporter": "python",
   "pygments_lexer": "ipython3",
   "version": "3.7.4"
  }
 },
 "nbformat": 4,
 "nbformat_minor": 2
}
