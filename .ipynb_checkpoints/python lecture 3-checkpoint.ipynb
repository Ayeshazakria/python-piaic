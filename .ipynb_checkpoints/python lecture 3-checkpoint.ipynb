{
 "cells": [
  {
   "cell_type": "code",
   "execution_count": 55,
   "metadata": {},
   "outputs": [
    {
     "name": "stdout",
     "output_type": "stream",
     "text": [
      "Pks\n",
      "Pakistan\n"
     ]
    }
   ],
   "source": [
    "x=\"Pakistan\"\n",
    "print(x[0:5:2])\n",
    "print(x)\n"
   ]
  },
  {
   "cell_type": "code",
   "execution_count": 49,
   "metadata": {},
   "outputs": [
    {
     "name": "stdout",
     "output_type": "stream",
     "text": [
      "13\n",
      "-1\n",
      " i love pakistan. i live in pakistan\n",
      "i \n",
      "nsanel aipv \n"
     ]
    }
   ],
   "source": [
    "##p[1:2:3] ,start included,end,step(gap)\n",
    "print(p.find(\"t\"))\n",
    "print(p.find(x))\n",
    "print(p[::1])\n",
    "print(p[1::-1])\n",
    "print(p[::-3])"
   ]
  },
  {
   "cell_type": "code",
   "execution_count": 8,
   "metadata": {},
   "outputs": [
    {
     "data": {
      "text/plain": [
       "'n'"
      ]
     },
     "execution_count": 8,
     "metadata": {},
     "output_type": "execute_result"
    }
   ],
   "source": [
    "x[x.find(\"pakistan\"):18:1]"
   ]
  },
  {
   "cell_type": "code",
   "execution_count": 53,
   "metadata": {},
   "outputs": [
    {
     "name": "stdout",
     "output_type": "stream",
     "text": [
      "19\n",
      "      muhammad adan\n",
      "19\n",
      "13\n",
      "muhammad adan\n"
     ]
    }
   ],
   "source": [
    "a=\"      muhammad adan\"\n",
    "print(len(a))\n",
    "a= a.rstrip()\n",
    "print(a)\n",
    "print(len(a))\n",
    "printa.lstrip()\n",
    "print(len(a))\n",
    "print(a)\n",
    "\n"
   ]
  },
  {
   "cell_type": "code",
   "execution_count": 14,
   "metadata": {},
   "outputs": [
    {
     "name": "stdout",
     "output_type": "stream",
     "text": [
      "['i', 'love', 'pakistan.', 'i', 'live', 'in', 'pakistan']\n",
      "[' i love ', 'akistan. i live in ', 'akistan']\n"
     ]
    }
   ],
   "source": [
    "p=\" i love pakistan. i live in pakistan\"\n",
    "print(p.split())#on the basis of space\n",
    "o=p.split(\"p\")# on basis of p\n",
    "print(o)"
   ]
  },
  {
   "cell_type": "code",
   "execution_count": 44,
   "metadata": {},
   "outputs": [
    {
     "name": "stdout",
     "output_type": "stream",
     "text": [
      " i love pakistan. i live in pakistan\n"
     ]
    }
   ],
   "source": [
    "#using join\n",
    "k=\"\" \n",
    "j=k.join(p)\n",
    "print(j)"
   ]
  },
  {
   "cell_type": "code",
   "execution_count": 47,
   "metadata": {},
   "outputs": [
    {
     "name": "stdout",
     "output_type": "stream",
     "text": [
      "\n",
      "name= \"hira\"\n",
      "batch=3\n",
      "center=\"bahria\"\n",
      "\n"
     ]
    }
   ],
   "source": [
    "# concatinating\n",
    "card='''\n",
    "name= \"hira\"\n",
    "batch=3\n",
    "center=\"bahria\"\n",
    "'''\n",
    "print(card)"
   ]
  },
  {
   "cell_type": "code",
   "execution_count": 18,
   "metadata": {},
   "outputs": [
    {
     "name": "stdout",
     "output_type": "stream",
     "text": [
      "name:ayesha \n",
      " batch: 3 \n",
      " center:bahria \n",
      " quiz_score:90\n"
     ]
    }
   ],
   "source": [
    "#using % and %s( for string data type  )%d( for int)\\ for concatinatiog lines,%f,%2f\n",
    "\n",
    "name= \"ayesha\"\n",
    "batch=3\n",
    "center=\"bahria\"\n",
    "quiz_score=90\n",
    "print(\"name:%s \\n batch: %s \\n center:%s \\n quiz_score:%d\"%(name,batch,center,quiz_score))"
   ]
  },
  {
   "cell_type": "code",
   "execution_count": 38,
   "metadata": {},
   "outputs": [
    {
     "ename": "NameError",
     "evalue": "name 'air' is not defined",
     "output_type": "error",
     "traceback": [
      "\u001b[1;31m---------------------------------------------------------------------------\u001b[0m",
      "\u001b[1;31mNameError\u001b[0m                                 Traceback (most recent call last)",
      "\u001b[1;32m<ipython-input-38-896b880b8903>\u001b[0m in \u001b[0;36m<module>\u001b[1;34m\u001b[0m\n\u001b[0;32m      1\u001b[0m \u001b[1;31m# using + only for strings\u001b[0m\u001b[1;33m\u001b[0m\u001b[1;33m\u001b[0m\u001b[1;33m\u001b[0m\u001b[0m\n\u001b[1;32m----> 2\u001b[1;33m \u001b[0mbatch\u001b[0m\u001b[1;33m=\u001b[0m\u001b[0mair\u001b[0m\u001b[1;33m\u001b[0m\u001b[1;33m\u001b[0m\u001b[0m\n\u001b[0m\u001b[0;32m      3\u001b[0m \u001b[0mprint\u001b[0m \u001b[1;33m(\u001b[0m\u001b[1;34m\"student name:\"\u001b[0m\u001b[1;33m+\u001b[0m\u001b[0mname\u001b[0m\u001b[1;33m+\u001b[0m\u001b[1;34m\"batch:\"\u001b[0m\u001b[1;33m+\u001b[0m\u001b[0mbatch\u001b[0m\u001b[1;33m+\u001b[0m\u001b[1;34m\"center:\"\u001b[0m\u001b[1;33m+\u001b[0m \u001b[0mcenter\u001b[0m\u001b[1;33m)\u001b[0m\u001b[1;33m\u001b[0m\u001b[1;33m\u001b[0m\u001b[0m\n",
      "\u001b[1;31mNameError\u001b[0m: name 'air' is not defined"
     ]
    }
   ],
   "source": [
    "# using + only for strings\n",
    "#batch=air\n",
    "print (\"student name:\"+name+\"batch:\"+batch+\"center:\"+ center)"
   ]
  },
  {
   "cell_type": "code",
   "execution_count": 46,
   "metadata": {},
   "outputs": [
    {
     "name": "stdout",
     "output_type": "stream",
     "text": [
      "name: ayesha\n",
      " batch 3\n",
      " center bahria\n"
     ]
    }
   ],
   "source": [
    "# using f and curly braces\n",
    "print(f\"name: {name}\\n batch {batch}\\n center {center}\")\n",
    "##print(f\"name: {hira}\\n batch {batch}\\n center {center}\")"
   ]
  },
  {
   "cell_type": "code",
   "execution_count": 23,
   "metadata": {},
   "outputs": [
    {
     "name": "stdout",
     "output_type": "stream",
     "text": [
      "name:ayesha \n",
      " batch:3\n",
      " center:bahria\n",
      " quiz_score:90\n"
     ]
    }
   ],
   "source": [
    "#using . format of str class, order matters, imp\n",
    "print(\"name:{} \\n batch:{}\\n center:{}\\\n",
    "\\n quiz_score:{}\" .format(name,batch,center,quiz_score))"
   ]
  },
  {
   "cell_type": "code",
   "execution_count": 51,
   "metadata": {},
   "outputs": [
    {
     "ename": "KeyError",
     "evalue": "' xyz'",
     "output_type": "error",
     "traceback": [
      "\u001b[1;31m---------------------------------------------------------------------------\u001b[0m",
      "\u001b[1;31mKeyError\u001b[0m                                  Traceback (most recent call last)",
      "\u001b[1;32m<ipython-input-51-ad844bcefdc5>\u001b[0m in \u001b[0;36m<module>\u001b[1;34m\u001b[0m\n\u001b[1;32m----> 1\u001b[1;33m \u001b[0mprint\u001b[0m\u001b[1;33m(\u001b[0m\u001b[1;34m\"name:{ xyz}\\n batch:{}\\n center:{}\\n quiz_score:{}\"\u001b[0m\u001b[1;33m.\u001b[0m\u001b[0mformat\u001b[0m\u001b[1;33m(\u001b[0m\u001b[1;34m\"hira\"\u001b[0m\u001b[1;33m,\u001b[0m\u001b[0mbatch\u001b[0m\u001b[1;33m,\u001b[0m\u001b[0mcenter\u001b[0m\u001b[1;33m,\u001b[0m\u001b[1;34m\"ali\"\u001b[0m\u001b[1;33m)\u001b[0m\u001b[1;33m)\u001b[0m\u001b[1;33m\u001b[0m\u001b[1;33m\u001b[0m\u001b[0m\n\u001b[0m",
      "\u001b[1;31mKeyError\u001b[0m: ' xyz'"
     ]
    }
   ],
   "source": [
    "print(\"name:{ }\\n batch:{}\\n center:{}\\n quiz_score:{}\".format(\"hira\",batch,center,xyz=\"ali\"))"
   ]
  },
  {
   "cell_type": "code",
   "execution_count": null,
   "metadata": {},
   "outputs": [],
   "source": []
  },
  {
   "cell_type": "code",
   "execution_count": null,
   "metadata": {},
   "outputs": [],
   "source": []
  }
 ],
 "metadata": {
  "kernelspec": {
   "display_name": "Python 3",
   "language": "python",
   "name": "python3"
  },
  "language_info": {
   "codemirror_mode": {
    "name": "ipython",
    "version": 3
   },
   "file_extension": ".py",
   "mimetype": "text/x-python",
   "name": "python",
   "nbconvert_exporter": "python",
   "pygments_lexer": "ipython3",
   "version": "3.7.4"
  }
 },
 "nbformat": 4,
 "nbformat_minor": 2
}
