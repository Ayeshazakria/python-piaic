{
 "cells": [
  {
   "cell_type": "code",
   "execution_count": 9,
   "metadata": {},
   "outputs": [
    {
     "name": "stdout",
     "output_type": "stream",
     "text": [
      "{}\n",
      "enter the a value34\n",
      "34\n",
      "{'12': 34}\n",
      "enter the a value29\n",
      "29\n",
      "{'12': 29}\n"
     ]
    }
   ],
   "source": [
    "# TASK_1\n",
    "dic={}\n",
    "print(dic)\n",
    "for i  in range (0,2):\n",
    "    a=int(input(\"enter the a value\"))\n",
    "    print(a)\n",
    "    dic[\"12\"]=a\n",
    "    print(dic)\n",
    "dic.update(dic)\n",
    "\n"
   ]
  },
  {
   "cell_type": "markdown",
   "metadata": {},
   "source": [
    "# TASK_2\n",
    "dict1={\"a\":1,\"b\":2}\n",
    "dict2={\"c\" :3,\"d\":4}\n",
    "dict1.update(dict2)\n",
    "print(dict1)\n"
   ]
  },
  {
   "cell_type": "code",
   "execution_count": 10,
   "metadata": {},
   "outputs": [
    {
     "name": "stdout",
     "output_type": "stream",
     "text": [
      "{'a': 1, 'b': 2, 'c': 3, 'd': 4}\n"
     ]
    }
   ],
   "source": [
    "#TASK_2\n",
    "\n",
    "dict1={\"a\":1,\"b\":2} \n",
    "dict2={\"c\" :3,\"d\":4}\n",
    "dict1.update(dict2)\n",
    "print(dict1)\n"
   ]
  },
  {
   "cell_type": "code",
   "execution_count": 7,
   "metadata": {},
   "outputs": [
    {
     "name": "stdout",
     "output_type": "stream",
     "text": [
      "enter a key j\n",
      "{'name': 'Ayesha', 'age': 20, 'uni': 'bahria'}\n",
      "not present\n",
      "enter a key uni\n",
      "{'name': 'Ayesha', 'age': 20, 'uni': 'bahria'}\n",
      "bahria\n",
      "enter a key h\n",
      "{'name': 'Ayesha', 'age': 20, 'uni': 'bahria'}\n",
      "not present\n"
     ]
    }
   ],
   "source": [
    "#TASK_3\n",
    "d1={\"name\":\"Ayesha\", \"age\":20,\"uni\":\"bahria\"}\n",
    "for i in range (1,4):\n",
    "    var=input(\"enter a key\"+\" \")\n",
    "    print(d1)\n",
    "    if  (var in d1.keys()):\n",
    "        print(d1[var])\n",
    "    else:\n",
    "        print(\"not present\")\n",
    "\n"
   ]
  },
  {
   "cell_type": "code",
   "execution_count": 22,
   "metadata": {},
   "outputs": [
    {
     "name": "stdout",
     "output_type": "stream",
     "text": [
      "case : 1\n",
      "enter a value3\n",
      "{1: 1, 2: 4, 3: 9}\n",
      "case : 2\n",
      "enter a value4\n",
      "{1: 1, 2: 4, 3: 9, 4: 16}\n"
     ]
    }
   ],
   "source": [
    "# TASK_4\n",
    "for i in range(1,3):\n",
    "    print(\"case :\", i)\n",
    "    x=int(input(\"enter a value\"))\n",
    "    d1={ x:x*x for x in range (1,x+1)}\n",
    "    print(d1)\n"
   ]
  },
  {
   "cell_type": "code",
   "execution_count": 35,
   "metadata": {},
   "outputs": [
    {
     "name": "stdout",
     "output_type": "stream",
     "text": [
      "total sum of values\n",
      "125\n"
     ]
    }
   ],
   "source": [
    "#TASK_5\n",
    "\n",
    "sum0 =0\n",
    "d2={\"a\":100,\"b\":25}\n",
    "for i in d2:\n",
    "    sum0 =sum0 + d2[i]\n",
    "print(\"total sum of values\")\n",
    "print(sum0)\n",
    "    "
   ]
  },
  {
   "cell_type": "code",
   "execution_count": 38,
   "metadata": {},
   "outputs": [
    {
     "name": "stdout",
     "output_type": "stream",
     "text": [
      "3000\n"
     ]
    }
   ],
   "source": [
    "#TASK_6\n",
    "d3={\"a\":100,\"b\":2,\"c\":5,\"d\":3}\n",
    "mul=1\n",
    "for i in d3:\n",
    "    mul=mul*d3[i]\n",
    "print(mul)"
   ]
  },
  {
   "cell_type": "code",
   "execution_count": 1,
   "metadata": {},
   "outputs": [
    {
     "name": "stdout",
     "output_type": "stream",
     "text": [
      "initial dictionary\n",
      "{'a': 1, 'c': 3, 'b': 2, 'd': 4}\n",
      "enter a key b\n",
      "found\n",
      "updated dictionory\n",
      "{'a': 1, 'c': 3, 'd': 4}\n"
     ]
    }
   ],
   "source": [
    "#TASK_7\n",
    "d5={\"a\":1,\"c\":3,\"b\":2,\"d\":4}\n",
    "print(\"initial dictionary\")\n",
    "print(d5)\n",
    "var=input(\"enter a key \")\n",
    "if var in d5:\n",
    "    print(\"found\")\n",
    "    d5.pop(var)\n",
    "    print(\"updated dictionory\")\n",
    "    print(d5)\n",
    "else:\n",
    "    print(\"key isn't present\")"
   ]
  },
  {
   "cell_type": "code",
   "execution_count": 5,
   "metadata": {},
   "outputs": [
    {
     "name": "stdout",
     "output_type": "stream",
     "text": [
      "enter number of elements for dictionary:3\n",
      "for keys\n",
      "enter element1:1\n",
      "enter element2:2\n",
      "enter element3:3\n",
      "for values\n",
      "enter element1:4\n",
      "enter element2:5\n",
      "enter element3:6\n",
      "the dictionary is:\n",
      "{1: 4, 2: 5, 3: 6}\n"
     ]
    }
   ],
   "source": [
    "#TASK_8\n",
    "keys=[]\n",
    "values=[]\n",
    "n=int(input(\"enter number of elements for dictionary:\"))\n",
    "print(\"for keys\")\n",
    "for x in range(1,n+1):\n",
    "    element=int(input(\"enter element\"+str(x)+\":\"))\n",
    "    keys.append(element)\n",
    "print(\"for values\")\n",
    "for x in range(1,n+1):\n",
    "    element=int(input(\"enter element\"+str(x)+\":\"))\n",
    "    values.append(element)\n",
    "d=dict(zip(keys,values))\n",
    "print(\"the dictionary is:\")\n",
    "print(d)\n"
   ]
  },
  {
   "cell_type": "code",
   "execution_count": 9,
   "metadata": {},
   "outputs": [
    {
     "ename": "SyntaxError",
     "evalue": "unexpected EOF while parsing (<ipython-input-9-d1f103155f4d>, line 9)",
     "output_type": "error",
     "traceback": [
      "\u001b[1;36m  File \u001b[1;32m\"<ipython-input-9-d1f103155f4d>\"\u001b[1;36m, line \u001b[1;32m9\u001b[0m\n\u001b[1;33m    print(dict(zip(list1,count_word_freq))\u001b[0m\n\u001b[1;37m                                          ^\u001b[0m\n\u001b[1;31mSyntaxError\u001b[0m\u001b[1;31m:\u001b[0m unexpected EOF while parsing\n"
     ]
    }
   ],
   "source": [
    "#TASK_9\n",
    "for i in range(1,3):\n",
    "    print(\"case :\",i)\n",
    "    var1=input(\"enter string\")\n",
    "    list1=[]\n",
    "    list1=var1.split()\n",
    "    print(list1)\n",
    "    count_word_freq=[list.count(i) for i in list1]\n",
    "    print(dict(zip(list1,count_word_freq))"
   ]
  },
  {
   "cell_type": "code",
   "execution_count": 12,
   "metadata": {},
   "outputs": [
    {
     "name": "stdout",
     "output_type": "stream",
     "text": [
      "case: 1\n",
      "enter stringhello world this is a test string sanfoundary\n",
      "['hello', 'world', 'this', 'is', 'a', 'test', 'string', 'sanfoundary']\n",
      "( '' h ' : ['hello'] )\n",
      "( '' w ' : ['world'] )\n",
      "( '' t ' : ['this', 'test'] )\n",
      "( '' i ' : ['is'] )\n",
      "( '' a ' : ['a'] )\n",
      "( '' s ' : ['string', 'sanfoundary'] )\n",
      "case: 2\n",
      "enter stringpython is my favourite programming language in the entire world\n",
      "['python', 'is', 'my', 'favourite', 'programming', 'language', 'in', 'the', 'entire', 'world']\n",
      "( '' p ' : ['python', 'programming'] )\n",
      "( '' i ' : ['is', 'in'] )\n",
      "( '' m ' : ['my'] )\n",
      "( '' f ' : ['favourite'] )\n",
      "( '' l ' : ['language'] )\n",
      "( '' t ' : ['the'] )\n",
      "( '' e ' : ['entire'] )\n",
      "( '' w ' : ['world'] )\n"
     ]
    }
   ],
   "source": [
    "#TASK_10\n",
    "for  i in range(1,3):\n",
    "    print(\"case:\",i)\n",
    "    var1=input(\"enter string\")\n",
    "    data={}\n",
    "    list1=[]\n",
    "    list2=[]\n",
    "    list1=var1.split()\n",
    "    print(list1)\n",
    "    for word in list1:\n",
    "        if(word[0] not in data.keys()):\n",
    "            data[word[0]]=[]\n",
    "            data[word[0]].append(word)\n",
    "        else:\n",
    "            if(word[0] in data.keys()):\n",
    "                data[word[0]].append(word)\n",
    "    for key,values in data.items():\n",
    "            print(\"(\",\"''\",key,\"'\",\":\",values,\")\")\n",
    "    "
   ]
  },
  {
   "cell_type": "code",
   "execution_count": null,
   "metadata": {},
   "outputs": [],
   "source": []
  }
 ],
 "metadata": {
  "kernelspec": {
   "display_name": "Python 3",
   "language": "python",
   "name": "python3"
  },
  "language_info": {
   "codemirror_mode": {
    "name": "ipython",
    "version": 3
   },
   "file_extension": ".py",
   "mimetype": "text/x-python",
   "name": "python",
   "nbconvert_exporter": "python",
   "pygments_lexer": "ipython3",
   "version": "3.7.4"
  }
 },
 "nbformat": 4,
 "nbformat_minor": 2
}
